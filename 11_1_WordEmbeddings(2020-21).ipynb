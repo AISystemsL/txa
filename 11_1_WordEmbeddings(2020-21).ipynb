{
  "nbformat": 4,
  "nbformat_minor": 0,
  "metadata": {
    "colab": {
      "name": "11.1 - WordEmbeddings.ipynb",
      "provenance": [],
      "collapsed_sections": []
    },
    "kernelspec": {
      "name": "python3",
      "display_name": "Python 3"
    }
  },
  "cells": [
    {
      "cell_type": "markdown",
      "metadata": {
        "id": "Ohxk6Nzf9w01"
      },
      "source": [
        "Downloading \"War and Peace\""
      ]
    },
    {
      "cell_type": "code",
      "metadata": {
        "id": "w6fWBe-czYb3"
      },
      "source": [
        "import requests\n",
        "url = \"http://www.gutenberg.org/files/2600/2600-0.txt\"\n",
        "text = requests.get(url).content.decode()"
      ],
      "execution_count": null,
      "outputs": []
    },
    {
      "cell_type": "code",
      "metadata": {
        "id": "WOUTYqyK9w06"
      },
      "source": [
        "with open('war_and_peace.txt',mode='w',encoding='utf-8') as outputfile:\n",
        "    outputfile.write(text)"
      ],
      "execution_count": null,
      "outputs": []
    },
    {
      "cell_type": "code",
      "metadata": {
        "id": "ydjx7nvZ9w0-"
      },
      "source": [
        "with open('war_and_peace.txt',mode='r',encoding='utf-8') as inputfile:\n",
        "    text = inputfile.read()"
      ],
      "execution_count": null,
      "outputs": []
    },
    {
      "cell_type": "code",
      "metadata": {
        "id": "1hfU6RAx9w1B"
      },
      "source": [
        "len(text)"
      ],
      "execution_count": null,
      "outputs": []
    },
    {
      "cell_type": "code",
      "metadata": {
        "id": "nW3Fn1_azYcB"
      },
      "source": [
        "text[:1000]"
      ],
      "execution_count": null,
      "outputs": []
    },
    {
      "cell_type": "code",
      "metadata": {
        "id": "NXq4ZQPh9w1F"
      },
      "source": [
        "# skipping meta info and index at the beginning of the book\n",
        "text = text[7285:]\n",
        "print(text[:400])"
      ],
      "execution_count": null,
      "outputs": []
    },
    {
      "cell_type": "code",
      "metadata": {
        "id": "kS-Ad-LM9w1L"
      },
      "source": [
        "# removing CHAPTER heading and new lines\n",
        "text = text.replace('CHAPTER','')\n",
        "text = text.replace('\\n',' ')\n",
        "text = text.replace('\\r',' ')"
      ],
      "execution_count": null,
      "outputs": []
    },
    {
      "cell_type": "markdown",
      "metadata": {
        "id": "7bULkmBV9w1P"
      },
      "source": [
        "Tokenization"
      ]
    },
    {
      "cell_type": "code",
      "metadata": {
        "id": "uyWEY936eeLH"
      },
      "source": [
        "import nltk\n",
        "nltk.download('punkt')"
      ],
      "execution_count": null,
      "outputs": []
    },
    {
      "cell_type": "code",
      "metadata": {
        "id": "um7zxLkc9w1R"
      },
      "source": [
        "from nltk import word_tokenize\n",
        "tokens = word_tokenize(text)"
      ],
      "execution_count": null,
      "outputs": []
    },
    {
      "cell_type": "code",
      "metadata": {
        "id": "MRFIyRYr9w1Y"
      },
      "source": [
        "len(tokens)"
      ],
      "execution_count": null,
      "outputs": []
    },
    {
      "cell_type": "code",
      "metadata": {
        "id": "aZPenhat9w1c"
      },
      "source": [
        "print(tokens[2000:2050])"
      ],
      "execution_count": null,
      "outputs": []
    },
    {
      "cell_type": "markdown",
      "metadata": {
        "id": "vJ0YIdr19w1i"
      },
      "source": [
        "Sentence splitting"
      ]
    },
    {
      "cell_type": "code",
      "metadata": {
        "id": "hmeRD37B9w1j"
      },
      "source": [
        "from nltk import sent_tokenize"
      ],
      "execution_count": null,
      "outputs": []
    },
    {
      "cell_type": "code",
      "metadata": {
        "id": "4HyCOsfy9w1n"
      },
      "source": [
        "sentences = sent_tokenize(text)"
      ],
      "execution_count": null,
      "outputs": []
    },
    {
      "cell_type": "code",
      "metadata": {
        "id": "G52UaIwC9w1y"
      },
      "source": [
        "len(sentences)"
      ],
      "execution_count": null,
      "outputs": []
    },
    {
      "cell_type": "code",
      "metadata": {
        "id": "Z02VNi0_9w12"
      },
      "source": [
        "print(sentences[6])"
      ],
      "execution_count": null,
      "outputs": []
    },
    {
      "cell_type": "markdown",
      "metadata": {
        "id": "WMvyjVJvn2jA"
      },
      "source": [
        "Let's tokenize every sentence.\n",
        "This is the expected input for word2vec."
      ]
    },
    {
      "cell_type": "code",
      "metadata": {
        "id": "tMsX2NDiyf1t"
      },
      "source": [
        "tok_sents = [word_tokenize(sentence) for sentence in sentences]"
      ],
      "execution_count": null,
      "outputs": []
    },
    {
      "cell_type": "code",
      "metadata": {
        "id": "Inm7hSH5zYcW"
      },
      "source": [
        "tok_sents[0:2]"
      ],
      "execution_count": null,
      "outputs": []
    },
    {
      "cell_type": "markdown",
      "metadata": {
        "id": "13K8uyymzYcX"
      },
      "source": [
        "A few statistics"
      ]
    },
    {
      "cell_type": "code",
      "metadata": {
        "id": "iRY6KFLM9w4u"
      },
      "source": [
        "vocab = set(tokens)\n",
        "len(vocab)"
      ],
      "execution_count": null,
      "outputs": []
    },
    {
      "cell_type": "code",
      "metadata": {
        "id": "SNkhsWPn9w4x"
      },
      "source": [
        "from collections import Counter\n",
        "frequencies = list(Counter(tokens).items())\n",
        "frequencies[:30]"
      ],
      "execution_count": null,
      "outputs": []
    },
    {
      "cell_type": "code",
      "metadata": {
        "id": "_0e_Vnsr9w4y"
      },
      "source": [
        "frequencies.sort(key=lambda x: x[1], reverse=True)"
      ],
      "execution_count": null,
      "outputs": []
    },
    {
      "cell_type": "code",
      "metadata": {
        "id": "769WTa589w40",
        "scrolled": true
      },
      "source": [
        "for word, frequency in frequencies[:30]:\n",
        "    print(word,'\\t',frequency)"
      ],
      "execution_count": null,
      "outputs": []
    },
    {
      "cell_type": "code",
      "metadata": {
        "id": "oZNNKvJr9w5A"
      },
      "source": [
        "%matplotlib inline\n",
        "import matplotlib.pyplot as plt\n",
        "plt.loglog([i+1 for i,_ in enumerate(frequencies)],[f for w,f in frequencies])\n",
        "plt.show()"
      ],
      "execution_count": null,
      "outputs": []
    },
    {
      "cell_type": "markdown",
      "metadata": {
        "id": "zuH2CDAk9w6K"
      },
      "source": [
        "### Fitting a Word2Vec model\n",
        "\n",
        "A tutorial from gensim's author is available at https://rare-technologies.com/word2vec-tutorial/ The tutorial contains details and links on how gensim implements word2vec."
      ]
    },
    {
      "cell_type": "markdown",
      "metadata": {
        "id": "H-YUs9zeoPjV"
      },
      "source": [
        "This logging-related command enables printed feedback during the fitting process."
      ]
    },
    {
      "cell_type": "code",
      "metadata": {
        "id": "ljy7K-PS9w6K"
      },
      "source": [
        "import logging\n",
        "logging.basicConfig(format='%(asctime)s : %(levelname)s : %(message)s', level=logging.INFO)"
      ],
      "execution_count": null,
      "outputs": []
    },
    {
      "cell_type": "markdown",
      "metadata": {
        "id": "GWNMZ6jkokIG"
      },
      "source": [
        "The creation of the Word2Vec object coincides with the fitting of the model.\n",
        "It thus takes some time."
      ]
    },
    {
      "cell_type": "code",
      "metadata": {
        "id": "5qltYu2c9w6M",
        "scrolled": true
      },
      "source": [
        "from gensim.models import Word2Vec\n",
        "w2v_model = Word2Vec(tok_sents, size=100, window=10, min_count=5, sg=1, iter=20, negative=10)"
      ],
      "execution_count": null,
      "outputs": []
    },
    {
      "cell_type": "code",
      "metadata": {
        "id": "wyIzetiv9w6O"
      },
      "source": [
        "w2v_model.wv.most_similar(['said'])"
      ],
      "execution_count": null,
      "outputs": []
    },
    {
      "cell_type": "code",
      "metadata": {
        "id": "IQtxiif_9w6Q"
      },
      "source": [
        "w2v_model.wv.most_similar(['sir','she'],['he'])"
      ],
      "execution_count": null,
      "outputs": []
    },
    {
      "cell_type": "code",
      "metadata": {
        "id": "O4km19999w6S"
      },
      "source": [
        "w2v_model.wv.vectors[1]"
      ],
      "execution_count": null,
      "outputs": []
    },
    {
      "cell_type": "code",
      "metadata": {
        "id": "9Ye33-yB0Ff-"
      },
      "source": [
        "w2v_model.wv.most_similar('father')"
      ],
      "execution_count": null,
      "outputs": []
    },
    {
      "cell_type": "code",
      "metadata": {
        "id": "7bnZhr_S9w6T"
      },
      "source": [
        "import requests\n",
        "url = \"https://raw.githubusercontent.com/nicholas-leonard/word2vec/master/questions-words.txt\"\n",
        "test_file = 'questions-words.txt'\n",
        "questions = requests.get(url).content.decode()\n",
        "with open(test_file,mode='w',encoding='utf-8') as outputfile:\n",
        "    outputfile.write(questions)\n",
        "print(questions[:1000])"
      ],
      "execution_count": null,
      "outputs": []
    },
    {
      "cell_type": "code",
      "metadata": {
        "id": "OZEu5jxz2xJ8"
      },
      "source": [
        "w2v_wAp_analogy = w2v_model.wv.evaluate_word_analogies(test_file)"
      ],
      "execution_count": null,
      "outputs": []
    },
    {
      "cell_type": "code",
      "metadata": {
        "id": "qIbP4yNP0qnR"
      },
      "source": [
        "w2v_wAp_analogy = w2v_model.wv.evaluate_word_analogies(test_file, dummy4unknown=True)"
      ],
      "execution_count": null,
      "outputs": []
    },
    {
      "cell_type": "markdown",
      "metadata": {
        "id": "Eq3gvenQ3fkM"
      },
      "source": [
        "Same data, using a FastText model (sub-word character n-grams get their own embeddings)."
      ]
    },
    {
      "cell_type": "code",
      "metadata": {
        "id": "vT9Uhs97ywiW"
      },
      "source": [
        "from gensim.models import FastText\n",
        "fast_model = FastText(tok_sents,size=100, window=10, min_count=5, sg=1, iter=20, negative=10)"
      ],
      "execution_count": null,
      "outputs": []
    },
    {
      "cell_type": "code",
      "metadata": {
        "id": "Dcom-AqTzaYA"
      },
      "source": [
        "fast_model.wv.most_similar(['said'])"
      ],
      "execution_count": null,
      "outputs": []
    },
    {
      "cell_type": "code",
      "metadata": {
        "id": "bQrZk2p-zYcx"
      },
      "source": [
        "w2v_model.wv.most_similar('father')"
      ],
      "execution_count": null,
      "outputs": []
    },
    {
      "cell_type": "code",
      "metadata": {
        "id": "3_X632r80AE9"
      },
      "source": [
        "w2v_model.wv.most_similar('fathher')"
      ],
      "execution_count": null,
      "outputs": []
    },
    {
      "cell_type": "code",
      "metadata": {
        "id": "3mai_hA41TF7"
      },
      "source": [
        "fast_model.wv.most_similar('father')"
      ],
      "execution_count": null,
      "outputs": []
    },
    {
      "cell_type": "code",
      "metadata": {
        "id": "VVCe7iZv0DS4"
      },
      "source": [
        "fast_model.wv.most_similar('fathher')"
      ],
      "execution_count": null,
      "outputs": []
    },
    {
      "cell_type": "code",
      "metadata": {
        "id": "ff0wFeGo2761"
      },
      "source": [
        "fasttext_wAp_analogy = fast_model.wv.evaluate_word_analogies(test_file)"
      ],
      "execution_count": null,
      "outputs": []
    },
    {
      "cell_type": "code",
      "metadata": {
        "id": "YD4LTS-p0hyE"
      },
      "source": [
        "fasttext_wAp_analogy = fast_model.wv.evaluate_word_analogies(test_file, dummy4unknown=True)"
      ],
      "execution_count": null,
      "outputs": []
    },
    {
      "cell_type": "markdown",
      "metadata": {
        "id": "YC7w4qP79w6U"
      },
      "source": [
        "Using google's precomputed word embeddings"
      ]
    },
    {
      "cell_type": "markdown",
      "metadata": {
        "id": "n9BSswn-9w6V"
      },
      "source": [
        "This section works only after downloading and uncompressing Google's precomputed word embeddings into the same directory where this notebook is saved"
      ]
    },
    {
      "cell_type": "code",
      "metadata": {
        "id": "nggJG98k2P9A"
      },
      "source": [
        "EMBEDDING_FILE = '/root/input/GoogleNews-vectors-negative300.bin.gz'\n",
        "!wget -P /root/input/ -c \"https://s3.amazonaws.com/dl4j-distribution/GoogleNews-vectors-negative300.bin.gz\""
      ],
      "execution_count": null,
      "outputs": []
    },
    {
      "cell_type": "code",
      "metadata": {
        "id": "gTXiVSIq9w6V"
      },
      "source": [
        "from gensim.models import KeyedVectors\n",
        "google_model = KeyedVectors.load_word2vec_format(EMBEDDING_FILE, binary=True)"
      ],
      "execution_count": null,
      "outputs": []
    },
    {
      "cell_type": "code",
      "metadata": {
        "id": "hBwDWTFv9w6X"
      },
      "source": [
        "google_model.most_similar(['king','female'],['male'])"
      ],
      "execution_count": null,
      "outputs": []
    },
    {
      "cell_type": "code",
      "metadata": {
        "id": "hqD7vFLB9w6Y"
      },
      "source": [
        "google_model.most_similar(['summer','cold'],['warm'])"
      ],
      "execution_count": null,
      "outputs": []
    },
    {
      "cell_type": "code",
      "metadata": {
        "id": "iLHsOwKy2zRj"
      },
      "source": [
        "w2v_large_analogy = google_model.wv.evaluate_word_analogies(test_file, dummy4unknown=True)"
      ],
      "execution_count": null,
      "outputs": []
    },
    {
      "cell_type": "code",
      "metadata": {
        "id": "OEiS6g4g9w6b"
      },
      "source": [
        "google_model.doesnt_match(['sun','moon','sand','jupiter'])"
      ],
      "execution_count": null,
      "outputs": []
    },
    {
      "cell_type": "markdown",
      "metadata": {
        "id": "X6lFMykmzYc-"
      },
      "source": [
        "Using fasttext's precomputed word embeddings"
      ]
    },
    {
      "cell_type": "markdown",
      "metadata": {
        "id": "prUJwU_izYc_"
      },
      "source": [
        "https://fasttext.cc/docs/en/english-vectors.html"
      ]
    },
    {
      "cell_type": "code",
      "metadata": {
        "id": "ZCuhXZqm80Sv"
      },
      "source": [
        "del google_model"
      ],
      "execution_count": null,
      "outputs": []
    },
    {
      "cell_type": "code",
      "metadata": {
        "id": "QSalnwUNzYc_"
      },
      "source": [
        "!wget -c 'https://dl.fbaipublicfiles.com/fasttext/vectors-crawl/cc.en.300.bin.gz'"
      ],
      "execution_count": null,
      "outputs": []
    },
    {
      "cell_type": "code",
      "metadata": {
        "id": "3Z-24IGq8gZ3"
      },
      "source": [
        "%ls"
      ],
      "execution_count": null,
      "outputs": []
    },
    {
      "cell_type": "code",
      "metadata": {
        "id": "cwBBIxG4_lw8"
      },
      "source": [
        "!gunzip cc.en.300.bin.gz"
      ],
      "execution_count": null,
      "outputs": []
    },
    {
      "cell_type": "code",
      "metadata": {
        "id": "49nPjpNlAabO"
      },
      "source": [
        "%ls"
      ],
      "execution_count": null,
      "outputs": []
    },
    {
      "cell_type": "code",
      "metadata": {
        "id": "-hAZjO-970nA"
      },
      "source": [
        "from gensim.models.fasttext import FastText\n",
        "fasttext_model = FastText.load_fasttext_format('cc.en.300.bin')"
      ],
      "execution_count": null,
      "outputs": []
    },
    {
      "cell_type": "code",
      "metadata": {
        "id": "NFKnAIFICtZa"
      },
      "source": [
        "fasttext_model.wv.most_similar('father')"
      ],
      "execution_count": null,
      "outputs": []
    },
    {
      "cell_type": "code",
      "metadata": {
        "id": "Ghr6HW4oDSFr"
      },
      "source": [
        "fasttext_model.wv.most_similar('fathher')"
      ],
      "execution_count": null,
      "outputs": []
    },
    {
      "cell_type": "code",
      "metadata": {
        "id": "Kh282J9-zYdB"
      },
      "source": [
        "fasttext_large_analogy = fasttext_model.wv.evaluate_word_analogies(test_file, dummy4unknown=True)"
      ],
      "execution_count": null,
      "outputs": []
    }
  ]
}