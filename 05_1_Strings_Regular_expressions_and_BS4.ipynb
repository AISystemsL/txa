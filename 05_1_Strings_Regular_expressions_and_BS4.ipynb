{
  "nbformat": 4,
  "nbformat_minor": 0,
  "metadata": {
    "kernelspec": {
      "display_name": "Python 3 (TA)",
      "language": "python",
      "name": "ta"
    },
    "language_info": {
      "codemirror_mode": {
        "name": "ipython",
        "version": 3
      },
      "file_extension": ".py",
      "mimetype": "text/x-python",
      "name": "python",
      "nbconvert_exporter": "python",
      "pygments_lexer": "ipython3",
      "version": "3.6.7"
    },
    "colab": {
      "name": "05.1 - Strings_Regular_expressions_and_BS4.ipynb",
      "provenance": []
    }
  },
  "cells": [
    {
      "cell_type": "markdown",
      "metadata": {
        "id": "q8X4-_tY-z8P"
      },
      "source": [
        "## Strings"
      ]
    },
    {
      "cell_type": "code",
      "metadata": {
        "id": "pbleQfOc-z8Q"
      },
      "source": [
        "text = 'piece of text'\n",
        "text"
      ],
      "execution_count": null,
      "outputs": []
    },
    {
      "cell_type": "code",
      "metadata": {
        "id": "kH579e_--z8U"
      },
      "source": [
        "text[2:7]"
      ],
      "execution_count": null,
      "outputs": []
    },
    {
      "cell_type": "code",
      "metadata": {
        "id": "h8_UppEt-z8d"
      },
      "source": [
        "len(text)"
      ],
      "execution_count": null,
      "outputs": []
    },
    {
      "cell_type": "code",
      "metadata": {
        "id": "L3wP2wg7-z8l"
      },
      "source": [
        "text.title()"
      ],
      "execution_count": null,
      "outputs": []
    },
    {
      "cell_type": "code",
      "metadata": {
        "id": "hNeN6Xq8-z8t"
      },
      "source": [
        "dir(text)"
      ],
      "execution_count": null,
      "outputs": []
    },
    {
      "cell_type": "markdown",
      "metadata": {
        "id": "vPdtFU83-z8z"
      },
      "source": [
        "## Strings are immutable, lists are mutable"
      ]
    },
    {
      "cell_type": "code",
      "metadata": {
        "id": "SIVuht88-z80"
      },
      "source": [
        "text.upper()"
      ],
      "execution_count": null,
      "outputs": []
    },
    {
      "cell_type": "code",
      "metadata": {
        "id": "g4L2_pdj-z85"
      },
      "source": [
        "text.upper()\n",
        "text"
      ],
      "execution_count": null,
      "outputs": []
    },
    {
      "cell_type": "code",
      "metadata": {
        "id": "yhb2C4XP-z89"
      },
      "source": [
        "a = text\n",
        "a = a.upper()\n",
        "text,a"
      ],
      "execution_count": null,
      "outputs": []
    },
    {
      "cell_type": "code",
      "metadata": {
        "id": "qKNvnPsf-z8_"
      },
      "source": [
        "a = [1,2,3]\n",
        "b = a\n",
        "b.append(4)\n",
        "a,b"
      ],
      "execution_count": null,
      "outputs": []
    },
    {
      "cell_type": "markdown",
      "metadata": {
        "id": "Y2AJ_dhe-z9C"
      },
      "source": [
        "## Simple Tokenization"
      ]
    },
    {
      "cell_type": "code",
      "metadata": {
        "id": "YgO_CcXu-z9C"
      },
      "source": [
        "text.split(' ')"
      ],
      "execution_count": null,
      "outputs": []
    },
    {
      "cell_type": "code",
      "metadata": {
        "id": "bNxlXey1-z9E"
      },
      "source": [
        "help(str.split)"
      ],
      "execution_count": null,
      "outputs": []
    },
    {
      "cell_type": "markdown",
      "metadata": {
        "id": "uyCbTDc4-z9H"
      },
      "source": [
        "## Regular expressions"
      ]
    },
    {
      "cell_type": "code",
      "metadata": {
        "id": "LN-uBfms-z9H"
      },
      "source": [
        "import re"
      ],
      "execution_count": null,
      "outputs": []
    },
    {
      "cell_type": "code",
      "metadata": {
        "id": "PjAh0PH0-z9L"
      },
      "source": [
        "text = 'Deep Extreme Cut (DEXTR) accepted to #CVPR2018 :) 🎊 Segment one object with only 4 clicks in 80 ms. Demo, @PyTorch code, pre-computed results, and pre-trained models available! @skprat @jponttuset Project page: http://vision.ee.ethz.ch/~cvlsegmentation/dextr/ …'"
      ],
      "execution_count": null,
      "outputs": []
    },
    {
      "cell_type": "markdown",
      "metadata": {
        "id": "9eXtHELm-z9N"
      },
      "source": [
        "Split on blanks"
      ]
    },
    {
      "cell_type": "code",
      "metadata": {
        "id": "pHPATQB5-z9N"
      },
      "source": [
        "re.split('\\s+',text)"
      ],
      "execution_count": null,
      "outputs": []
    },
    {
      "cell_type": "markdown",
      "metadata": {
        "id": "t6VslZl2-z9P"
      },
      "source": [
        "Split on non-alphabet/numeric characters"
      ]
    },
    {
      "cell_type": "code",
      "metadata": {
        "id": "pgTp-S-O-z9Q"
      },
      "source": [
        "re.split('\\W+',text)"
      ],
      "execution_count": null,
      "outputs": []
    },
    {
      "cell_type": "markdown",
      "metadata": {
        "id": "3dH6WKzu-z9S"
      },
      "source": [
        "Recognition of special entities"
      ]
    },
    {
      "cell_type": "code",
      "metadata": {
        "id": "isIqCiBd-z9S"
      },
      "source": [
        "mentionre = re.compile(r'@[\\w]+')\n",
        "hashtagre = re.compile(r'#[\\w]+')\n",
        "urlre = re.compile(r'http[s]{,1}://[^ ]+')\n",
        "emoticonre = re.compile(r'(?::|;|=)(?:-)?(?:\\)|\\(|D|P)')"
      ],
      "execution_count": null,
      "outputs": []
    },
    {
      "cell_type": "code",
      "metadata": {
        "id": "N-5UGodO-z9U"
      },
      "source": [
        "type(mentionre)"
      ],
      "execution_count": null,
      "outputs": []
    },
    {
      "cell_type": "code",
      "metadata": {
        "id": "gMvbE70y-z9Y"
      },
      "source": [
        "mentionre.findall(text)"
      ],
      "execution_count": null,
      "outputs": []
    },
    {
      "cell_type": "code",
      "metadata": {
        "id": "emrUm6X3-z9b"
      },
      "source": [
        "hashtagre.findall(text)"
      ],
      "execution_count": null,
      "outputs": []
    },
    {
      "cell_type": "code",
      "metadata": {
        "id": "0Oi6qPEm-z9e"
      },
      "source": [
        "urlre.findall(text)"
      ],
      "execution_count": null,
      "outputs": []
    },
    {
      "cell_type": "code",
      "metadata": {
        "id": "i6I2RL_r-z9i"
      },
      "source": [
        "emoticonre.findall(text)"
      ],
      "execution_count": null,
      "outputs": []
    },
    {
      "cell_type": "markdown",
      "metadata": {
        "id": "VBKDYC0H-z9l"
      },
      "source": [
        "### Code snippet: Getting text from the Web"
      ]
    },
    {
      "cell_type": "markdown",
      "metadata": {
        "id": "p0FWYGCY-z9m"
      },
      "source": [
        "The example below works only with http requests"
      ]
    },
    {
      "cell_type": "code",
      "metadata": {
        "id": "xdm0iTU0-z9m"
      },
      "source": [
        "from urllib import request\n",
        "url = \"http://www.esuli.it\"\n",
        "response = request.urlopen(url)\n",
        "html = response.read().decode('utf-8')"
      ],
      "execution_count": null,
      "outputs": []
    },
    {
      "cell_type": "code",
      "metadata": {
        "id": "iwBAMpKY-z9q"
      },
      "source": [
        "html"
      ],
      "execution_count": null,
      "outputs": []
    },
    {
      "cell_type": "markdown",
      "metadata": {
        "id": "FipunmB4-z9u"
      },
      "source": [
        "This other example is a bit more complex but it works also with https requests"
      ]
    },
    {
      "cell_type": "code",
      "metadata": {
        "id": "CjYKgV3V-z9v"
      },
      "source": [
        "from urllib import request \n",
        "import ssl\n",
        "url = \"https://en.wikipedia.org/wiki/Pisa\"\n",
        "ssl_context = ssl.SSLContext()\n",
        "ssl_context.verify_mode = ssl.CERT_NONE\n",
        "req = request.Request(url, headers={'User-Agent' : \"Browser\"}) \n",
        "con = request.urlopen( req , context = ssl_context)\n",
        "html = con.read().decode('utf-8')"
      ],
      "execution_count": null,
      "outputs": []
    },
    {
      "cell_type": "code",
      "metadata": {
        "id": "-uLeUFzmzzOr"
      },
      "source": [
        "html"
      ],
      "execution_count": null,
      "outputs": []
    },
    {
      "cell_type": "markdown",
      "metadata": {
        "id": "jZ648lL9zqo2"
      },
      "source": [
        "The *requests* package handles https connections transparently"
      ]
    },
    {
      "cell_type": "code",
      "metadata": {
        "id": "rbnGijg7zKny"
      },
      "source": [
        "import requests\n",
        "url = \"https://en.wikipedia.org/wiki/Pisa\"\n",
        "response = requests.get(url)\n",
        "html = response.content.decode()"
      ],
      "execution_count": null,
      "outputs": []
    },
    {
      "cell_type": "code",
      "metadata": {
        "id": "-PaxF6gy-z93"
      },
      "source": [
        "html"
      ],
      "execution_count": null,
      "outputs": []
    },
    {
      "cell_type": "markdown",
      "metadata": {
        "id": "d58L3gIR-z97"
      },
      "source": [
        "## Using regular expressions to get URLs"
      ]
    },
    {
      "cell_type": "code",
      "metadata": {
        "id": "r4xXv3UE-z97"
      },
      "source": [
        "import re\n",
        "url_re = re.compile('https?://[^\\s\"]+')\n",
        "url_re.findall(html)"
      ],
      "execution_count": null,
      "outputs": []
    },
    {
      "cell_type": "markdown",
      "metadata": {
        "id": "dfX2HOm6-z-L"
      },
      "source": [
        "# BeautifulSoup"
      ]
    },
    {
      "cell_type": "markdown",
      "metadata": {
        "id": "bOy5NCvy-z-N"
      },
      "source": [
        "## Using beautiful soup to extract text from HTML"
      ]
    },
    {
      "cell_type": "code",
      "metadata": {
        "id": "CxumB1zc-z-R"
      },
      "source": [
        "from bs4 import BeautifulSoup\n",
        "soup = BeautifulSoup(html, \"html5lib\")"
      ],
      "execution_count": null,
      "outputs": []
    },
    {
      "cell_type": "code",
      "metadata": {
        "scrolled": true,
        "id": "dw1HOlFd-z-Y"
      },
      "source": [
        "print(soup.get_text())"
      ],
      "execution_count": null,
      "outputs": []
    },
    {
      "cell_type": "code",
      "metadata": {
        "id": "cbaNFJm--z-w"
      },
      "source": [
        "soup.find_all('p')"
      ],
      "execution_count": null,
      "outputs": []
    },
    {
      "cell_type": "code",
      "metadata": {
        "id": "vqkmqLpq-z-2"
      },
      "source": [
        "text = '\\n'.join([''.join(s.findAll(text=True))for s in soup.findAll('p')])\n",
        "print(text)"
      ],
      "execution_count": null,
      "outputs": []
    },
    {
      "cell_type": "code",
      "metadata": {
        "id": "-zAnanTN-z-8"
      },
      "source": [
        "soup.find_all('a')"
      ],
      "execution_count": null,
      "outputs": []
    },
    {
      "cell_type": "code",
      "metadata": {
        "id": "-54ifuzA-z_I"
      },
      "source": [
        "anchor_text = '\\n'.join([''.join(s.findAll(text=True))for s in soup.findAll('a')])\n",
        "print(anchor_text)"
      ],
      "execution_count": null,
      "outputs": []
    }
  ]
}