{
  "nbformat": 4,
  "nbformat_minor": 0,
  "metadata": {
    "kernelspec": {
      "display_name": "Python 3",
      "language": "python",
      "name": "python3"
    },
    "language_info": {
      "codemirror_mode": {
        "name": "ipython",
        "version": 3
      },
      "file_extension": ".py",
      "mimetype": "text/x-python",
      "name": "python",
      "nbconvert_exporter": "python",
      "pygments_lexer": "ipython3",
      "version": "3.7.3"
    },
    "colab": {
      "name": "05.3 - Collocations.ipynb",
      "provenance": [],
      "collapsed_sections": []
    }
  },
  "cells": [
    {
      "cell_type": "markdown",
      "metadata": {
        "id": "2pw3y5ZeQXtd"
      },
      "source": [
        "## Tokenization\n",
        "Some text is loaded and split into sentences"
      ]
    },
    {
      "cell_type": "code",
      "metadata": {
        "id": "x448m7PVQXte"
      },
      "source": [
        "import pandas as pd\n",
        "\n",
        "train_file = 'http://esuli.it/demo/data/movie_reviews.csv'\n",
        "\n",
        "texts = pd.read_csv(train_file,names=['id','text','label'])"
      ],
      "execution_count": null,
      "outputs": []
    },
    {
      "cell_type": "code",
      "metadata": {
        "id": "GAUBr-90QXtg"
      },
      "source": [
        "texts"
      ],
      "execution_count": null,
      "outputs": []
    },
    {
      "cell_type": "code",
      "metadata": {
        "id": "ofp0gupsQwBD"
      },
      "source": [
        "import nltk\n",
        "nltk.download('punkt')\n",
        "nltk.download('stopwords')"
      ],
      "execution_count": null,
      "outputs": []
    },
    {
      "cell_type": "code",
      "metadata": {
        "id": "3wuI5y5oQXtj"
      },
      "source": [
        "sents = list()\n",
        "for text in texts['text']:\n",
        "    sents.append(nltk.word_tokenize(text))"
      ],
      "execution_count": null,
      "outputs": []
    },
    {
      "cell_type": "code",
      "metadata": {
        "id": "D6I3sZHHQXtl"
      },
      "source": [
        "sents[0]"
      ],
      "execution_count": null,
      "outputs": []
    },
    {
      "cell_type": "markdown",
      "metadata": {
        "id": "rZ9mmkowQXto"
      },
      "source": [
        "## Collocations\n",
        "Collocations are extracted by measuring statistical relevance in the frequency of co-occurrence\n",
        "https://radimrehurek.com/gensim/models/phrases.html"
      ]
    },
    {
      "cell_type": "code",
      "metadata": {
        "id": "wexSHD4YQXto"
      },
      "source": [
        "from gensim.models.phrases import Phraser, Phrases"
      ],
      "execution_count": null,
      "outputs": []
    },
    {
      "cell_type": "code",
      "metadata": {
        "id": "MTiROHsOQXtr"
      },
      "source": [
        "bigram = Phraser(Phrases(sents))"
      ],
      "execution_count": null,
      "outputs": []
    },
    {
      "cell_type": "code",
      "metadata": {
        "scrolled": true,
        "id": "GjDF1D87QXtu"
      },
      "source": [
        "bigram.phrasegrams"
      ],
      "execution_count": null,
      "outputs": []
    },
    {
      "cell_type": "code",
      "metadata": {
        "id": "yMqW9Dh-QXtx"
      },
      "source": [
        "collocations = list()\n",
        "for key in bigram.phrasegrams:\n",
        "    freq,score = bigram.phrasegrams[key]\n",
        "    collocations.append((' '.join([word.decode() for word in key]),freq,score))\n",
        "\n",
        "    \n",
        "for (coll,freq,score) in sorted(collocations,key=lambda x: x[2],reverse=True):\n",
        "    print(f'\"{coll}\", freq={freq}, score={score}')"
      ],
      "execution_count": null,
      "outputs": []
    },
    {
      "cell_type": "code",
      "metadata": {
        "id": "hcTPGScdQXtz"
      },
      "source": [
        "bigram[sents[100]]"
      ],
      "execution_count": null,
      "outputs": []
    },
    {
      "cell_type": "code",
      "metadata": {
        "id": "wxx_S__FQXt1"
      },
      "source": [
        "from nltk.corpus import stopwords\n",
        "stopwords = stopwords.words('english')"
      ],
      "execution_count": null,
      "outputs": []
    },
    {
      "cell_type": "code",
      "metadata": {
        "id": "m_GFCpbQQXt4"
      },
      "source": [
        "stopwords"
      ],
      "execution_count": null,
      "outputs": []
    },
    {
      "cell_type": "code",
      "metadata": {
        "id": "w5Er72zCQXt6"
      },
      "source": [
        "bigram = Phraser(Phrases(sents, common_terms=stopwords))"
      ],
      "execution_count": null,
      "outputs": []
    },
    {
      "cell_type": "code",
      "metadata": {
        "id": "WSATlgWgQXt8"
      },
      "source": [
        "collocations = list()\n",
        "for key in bigram.phrasegrams:\n",
        "    freq,score = bigram.phrasegrams[key]\n",
        "    collocations.append((' '.join([word.decode() for word in key]),freq,score))\n",
        "\n",
        "    \n",
        "for (coll,freq,score) in sorted(collocations,key=lambda x: x[2],reverse=True):\n",
        "    print(f'\"{coll}\", freq={freq}, score={score}')"
      ],
      "execution_count": null,
      "outputs": []
    },
    {
      "cell_type": "code",
      "metadata": {
        "scrolled": false,
        "id": "xbU9fhetQXt-"
      },
      "source": [
        "bigram[sents[100]]"
      ],
      "execution_count": null,
      "outputs": []
    },
    {
      "cell_type": "code",
      "metadata": {
        "id": "rKAyETTnQXuB"
      },
      "source": [
        "for i in range(len(sents)):\n",
        "    sent_w_bigram = bigram[sents[i]]\n",
        "    count = 0\n",
        "    for word in sent_w_bigram:\n",
        "        if '_' in word:\n",
        "            count += 1\n",
        "    if count > 3:\n",
        "        print(i,sent_w_bigram)"
      ],
      "execution_count": null,
      "outputs": []
    },
    {
      "cell_type": "code",
      "metadata": {
        "id": "wYa36IgWQXuD"
      },
      "source": [
        "sents_w_bigram = bigram[sents]\n",
        "trigram = Phraser(Phrases(sents_w_bigram, common_terms=stopwords))"
      ],
      "execution_count": null,
      "outputs": []
    },
    {
      "cell_type": "code",
      "metadata": {
        "id": "9mbAXdIvQXuF"
      },
      "source": [
        "collocations = list()\n",
        "for key in set(trigram.phrasegrams.keys())-set(bigram.phrasegrams.keys()):\n",
        "    freq,score = trigram.phrasegrams[key]\n",
        "    collocations.append((' '.join([word.decode() for word in key]),freq,score))\n",
        "\n",
        "    \n",
        "for (coll,freq,score) in sorted(collocations,key=lambda x: x[2],reverse=True):\n",
        "    print(f'\"{coll}\", freq={freq}, score={score}')"
      ],
      "execution_count": null,
      "outputs": []
    },
    {
      "cell_type": "code",
      "metadata": {
        "id": "e9yZemcbQXuH"
      },
      "source": [
        ""
      ],
      "execution_count": null,
      "outputs": []
    }
  ]
}